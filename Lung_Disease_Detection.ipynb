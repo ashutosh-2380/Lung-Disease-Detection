{
  "nbformat": 4,
  "nbformat_minor": 0,
  "metadata": {
    "colab": {
      "provenance": [],
      "gpuType": "T4",
      "authorship_tag": "ABX9TyMXANeq14/lkDwDeB2kNK16",
      "include_colab_link": true
    },
    "kernelspec": {
      "name": "python3",
      "display_name": "Python 3"
    },
    "language_info": {
      "name": "python"
    },
    "accelerator": "GPU"
  },
  "cells": [
    {
      "cell_type": "markdown",
      "metadata": {
        "id": "view-in-github",
        "colab_type": "text"
      },
      "source": [
        "<a href=\"https://colab.research.google.com/github/ashutosh-2380/Lung-Disease-Detection/blob/main/Lung_Disease_Detection.ipynb\" target=\"_parent\"><img src=\"https://colab.research.google.com/assets/colab-badge.svg\" alt=\"Open In Colab\"/></a>"
      ]
    },
    {
      "cell_type": "code",
      "execution_count": 1,
      "metadata": {
        "id": "qGY7kfFiOXtH"
      },
      "outputs": [],
      "source": [
        "!mkdir -p ~/.kaggle\n",
        "!cp kaggle.json ~/.kaggle/"
      ]
    },
    {
      "cell_type": "code",
      "source": [
        "!chmod 600 /root/.kaggle/kaggle.json"
      ],
      "metadata": {
        "id": "kRfrwpN8O_c8"
      },
      "execution_count": 21,
      "outputs": []
    },
    {
      "cell_type": "code",
      "source": [
        "import zipfile\n",
        "zip_ref = zipfile.ZipFile('/content/lung-disease.zip', 'r')\n",
        "zip_ref.extractall('/content')\n",
        "zip_ref.close()"
      ],
      "metadata": {
        "id": "otqkZ6HhPaPo"
      },
      "execution_count": 3,
      "outputs": []
    },
    {
      "cell_type": "code",
      "source": [
        "import tensorflow as tf\n",
        "from tensorflow import keras\n",
        "from keras import Sequential\n",
        "from keras.layers import Dense,Conv2D,MaxPooling2D,Flatten,BatchNormalization,Dropout"
      ],
      "metadata": {
        "id": "cwB3hXfNPzWH"
      },
      "execution_count": 4,
      "outputs": []
    },
    {
      "cell_type": "code",
      "source": [
        "train_ds = keras.utils.image_dataset_from_directory(\n",
        "    directory='/content/Lung X-Ray Image/Lung X-Ray Image',\n",
        "    labels='inferred',\n",
        "    label_mode='int',\n",
        "    batch_size=32,\n",
        "    image_size=(256, 256),\n",
        "    validation_split=0.2,\n",
        "    subset=\"training\",\n",
        "    seed=123\n",
        ")\n",
        "\n",
        "val_ds = keras.utils.image_dataset_from_directory(\n",
        "    directory='/content/Lung X-Ray Image/Lung X-Ray Image',\n",
        "    labels='inferred',\n",
        "    label_mode='int',\n",
        "    batch_size=32,\n",
        "    image_size=(256, 256),\n",
        "    validation_split=0.2,\n",
        "    subset=\"validation\",\n",
        "    seed=123\n",
        ")\n"
      ],
      "metadata": {
        "colab": {
          "base_uri": "https://localhost:8080/"
        },
        "id": "RArujmaePoUO",
        "outputId": "7fe04264-fe09-43ce-af39-c095e93afcdb"
      },
      "execution_count": 5,
      "outputs": [
        {
          "output_type": "stream",
          "name": "stdout",
          "text": [
            "Found 3475 files belonging to 3 classes.\n",
            "Using 2780 files for training.\n",
            "Found 3475 files belonging to 3 classes.\n",
            "Using 695 files for validation.\n"
          ]
        }
      ]
    },
    {
      "cell_type": "code",
      "source": [
        "# Normalize\n",
        "def process(image,label):\n",
        "    image = tf.cast(image/255. ,tf.float32)\n",
        "    return image,label\n",
        "\n",
        "train_ds = train_ds.map(process)\n",
        "val_ds = val_ds.map(process)"
      ],
      "metadata": {
        "id": "qMCduMg0TN2I"
      },
      "execution_count": 6,
      "outputs": []
    },
    {
      "cell_type": "code",
      "source": [
        "model = Sequential()\n",
        "\n",
        "model.add(Conv2D(32,kernel_size=(3,3),padding='valid',activation='relu',input_shape=(256,256,3)))\n",
        "model.add(BatchNormalization())\n",
        "model.add(Conv2D(64,kernel_size=(3,3),padding='valid',activation='relu'))\n",
        "model.add(BatchNormalization())\n",
        "model.add(MaxPooling2D(pool_size=(2,2),strides=2,padding='valid'))\n",
        "\n",
        "model.add(Conv2D(64,kernel_size=(3,3),padding='valid',activation='relu'))\n",
        "model.add(BatchNormalization())\n",
        "model.add(Conv2D(64,kernel_size=(3,3),padding='valid',activation='relu'))\n",
        "model.add(BatchNormalization())\n",
        "model.add(MaxPooling2D(pool_size=(2,2),strides=2,padding='valid'))\n",
        "\n",
        "model.add(Conv2D(128,kernel_size=(3,3),padding='valid',activation='relu'))\n",
        "model.add(BatchNormalization())\n",
        "model.add(Conv2D(128,kernel_size=(3,3),padding='valid',activation='relu'))\n",
        "model.add(BatchNormalization())\n",
        "model.add(MaxPooling2D(pool_size=(2,2),strides=2,padding='valid'))\n",
        "\n",
        "model.add(Conv2D(128,kernel_size=(3,3),padding='valid',activation='relu'))\n",
        "model.add(BatchNormalization())\n",
        "model.add(Conv2D(128,kernel_size=(3,3),padding='valid',activation='relu'))\n",
        "model.add(BatchNormalization())\n",
        "model.add(MaxPooling2D(pool_size=(2,2),strides=2,padding='valid'))\n",
        "\n",
        "model.add(Conv2D(256,kernel_size=(3,3),padding='valid',activation='relu'))\n",
        "model.add(BatchNormalization())\n",
        "model.add(Conv2D(256,kernel_size=(3,3),padding='valid',activation='relu'))\n",
        "model.add(BatchNormalization())\n",
        "model.add(MaxPooling2D(pool_size=(2,2),strides=2,padding='valid'))\n",
        "\n",
        "\n",
        "model.add(Flatten())\n",
        "model.add(Dropout(0.2))\n",
        "model.add(Dense(128,activation='relu'))\n",
        "model.add(Dropout(0.2))\n",
        "model.add(Dense(64,activation='relu'))\n",
        "model.add(Dropout(0.2))\n",
        "model.add(Dense(3,activation='softmax'))"
      ],
      "metadata": {
        "id": "GjPEHpsWrcN3"
      },
      "execution_count": 9,
      "outputs": []
    },
    {
      "cell_type": "code",
      "source": [
        "model.summary()"
      ],
      "metadata": {
        "colab": {
          "base_uri": "https://localhost:8080/"
        },
        "id": "uFvKnht2UT_9",
        "outputId": "39216480-b060-47e8-f085-cb291fe0689c"
      },
      "execution_count": null,
      "outputs": [
        {
          "output_type": "stream",
          "name": "stdout",
          "text": [
            "Model: \"sequential_6\"\n",
            "_________________________________________________________________\n",
            " Layer (type)                Output Shape              Param #   \n",
            "=================================================================\n",
            " conv2d_25 (Conv2D)          (None, 254, 254, 32)      896       \n",
            "                                                                 \n",
            " batch_normalization_25 (Ba  (None, 254, 254, 32)      128       \n",
            " tchNormalization)                                               \n",
            "                                                                 \n",
            " max_pooling2d_25 (MaxPooli  (None, 127, 127, 32)      0         \n",
            " ng2D)                                                           \n",
            "                                                                 \n",
            " conv2d_26 (Conv2D)          (None, 125, 125, 64)      18496     \n",
            "                                                                 \n",
            " batch_normalization_26 (Ba  (None, 125, 125, 64)      256       \n",
            " tchNormalization)                                               \n",
            "                                                                 \n",
            " max_pooling2d_26 (MaxPooli  (None, 62, 62, 64)        0         \n",
            " ng2D)                                                           \n",
            "                                                                 \n",
            " conv2d_27 (Conv2D)          (None, 60, 60, 128)       73856     \n",
            "                                                                 \n",
            " batch_normalization_27 (Ba  (None, 60, 60, 128)       512       \n",
            " tchNormalization)                                               \n",
            "                                                                 \n",
            " max_pooling2d_27 (MaxPooli  (None, 30, 30, 128)       0         \n",
            " ng2D)                                                           \n",
            "                                                                 \n",
            " conv2d_28 (Conv2D)          (None, 28, 28, 128)       147584    \n",
            "                                                                 \n",
            " batch_normalization_28 (Ba  (None, 28, 28, 128)       512       \n",
            " tchNormalization)                                               \n",
            "                                                                 \n",
            " max_pooling2d_28 (MaxPooli  (None, 14, 14, 128)       0         \n",
            " ng2D)                                                           \n",
            "                                                                 \n",
            " conv2d_29 (Conv2D)          (None, 12, 12, 128)       147584    \n",
            "                                                                 \n",
            " batch_normalization_29 (Ba  (None, 12, 12, 128)       512       \n",
            " tchNormalization)                                               \n",
            "                                                                 \n",
            " max_pooling2d_29 (MaxPooli  (None, 6, 6, 128)         0         \n",
            " ng2D)                                                           \n",
            "                                                                 \n",
            " flatten_6 (Flatten)         (None, 4608)              0         \n",
            "                                                                 \n",
            " dense_18 (Dense)            (None, 128)               589952    \n",
            "                                                                 \n",
            " dropout_12 (Dropout)        (None, 128)               0         \n",
            "                                                                 \n",
            " dense_19 (Dense)            (None, 64)                8256      \n",
            "                                                                 \n",
            " dropout_13 (Dropout)        (None, 64)                0         \n",
            "                                                                 \n",
            " dense_20 (Dense)            (None, 3)                 195       \n",
            "                                                                 \n",
            "=================================================================\n",
            "Total params: 988739 (3.77 MB)\n",
            "Trainable params: 987779 (3.77 MB)\n",
            "Non-trainable params: 960 (3.75 KB)\n",
            "_________________________________________________________________\n"
          ]
        }
      ]
    },
    {
      "cell_type": "code",
      "source": [
        "model.compile(optimizer='adam',loss='sparse_categorical_crossentropy',metrics=['accuracy'])"
      ],
      "metadata": {
        "id": "3qeQ4o3vUWlt"
      },
      "execution_count": 10,
      "outputs": []
    },
    {
      "cell_type": "code",
      "source": [
        "history = model.fit(train_ds,epochs=40,validation_data=val_ds)"
      ],
      "metadata": {
        "colab": {
          "base_uri": "https://localhost:8080/"
        },
        "id": "6d6gfgGJUnhV",
        "outputId": "e172801c-9e8d-44f6-b2a4-b932ab003dce"
      },
      "execution_count": 11,
      "outputs": [
        {
          "output_type": "stream",
          "name": "stdout",
          "text": [
            "Epoch 1/40\n",
            "87/87 [==============================] - 55s 405ms/step - loss: 0.7889 - accuracy: 0.7036 - val_loss: 1.5893 - val_accuracy: 0.3165\n",
            "Epoch 2/40\n",
            "87/87 [==============================] - 24s 274ms/step - loss: 0.5560 - accuracy: 0.7820 - val_loss: 3.2628 - val_accuracy: 0.3151\n",
            "Epoch 3/40\n",
            "87/87 [==============================] - 24s 274ms/step - loss: 0.4417 - accuracy: 0.8241 - val_loss: 1.9326 - val_accuracy: 0.3597\n",
            "Epoch 4/40\n",
            "87/87 [==============================] - 24s 272ms/step - loss: 0.4080 - accuracy: 0.8392 - val_loss: 1.0599 - val_accuracy: 0.6748\n",
            "Epoch 5/40\n",
            "87/87 [==============================] - 24s 271ms/step - loss: 0.3783 - accuracy: 0.8493 - val_loss: 0.5561 - val_accuracy: 0.8072\n",
            "Epoch 6/40\n",
            "87/87 [==============================] - 24s 277ms/step - loss: 0.3557 - accuracy: 0.8615 - val_loss: 0.7536 - val_accuracy: 0.7266\n",
            "Epoch 7/40\n",
            "87/87 [==============================] - 24s 269ms/step - loss: 0.3432 - accuracy: 0.8626 - val_loss: 0.3742 - val_accuracy: 0.8619\n",
            "Epoch 8/40\n",
            "87/87 [==============================] - 25s 279ms/step - loss: 0.3078 - accuracy: 0.8813 - val_loss: 0.6629 - val_accuracy: 0.8129\n",
            "Epoch 9/40\n",
            "87/87 [==============================] - 24s 273ms/step - loss: 0.3200 - accuracy: 0.8691 - val_loss: 1.3898 - val_accuracy: 0.7424\n",
            "Epoch 10/40\n",
            "87/87 [==============================] - 24s 268ms/step - loss: 0.2986 - accuracy: 0.8939 - val_loss: 0.3221 - val_accuracy: 0.8878\n",
            "Epoch 11/40\n",
            "87/87 [==============================] - 24s 270ms/step - loss: 0.2495 - accuracy: 0.9058 - val_loss: 0.3110 - val_accuracy: 0.8791\n",
            "Epoch 12/40\n",
            "87/87 [==============================] - 24s 273ms/step - loss: 0.2515 - accuracy: 0.8978 - val_loss: 0.3837 - val_accuracy: 0.8489\n",
            "Epoch 13/40\n",
            "87/87 [==============================] - 23s 266ms/step - loss: 0.2424 - accuracy: 0.9050 - val_loss: 0.3453 - val_accuracy: 0.8576\n",
            "Epoch 14/40\n",
            "87/87 [==============================] - 24s 270ms/step - loss: 0.2398 - accuracy: 0.9104 - val_loss: 0.3033 - val_accuracy: 0.8978\n",
            "Epoch 15/40\n",
            "87/87 [==============================] - 25s 280ms/step - loss: 0.2164 - accuracy: 0.9162 - val_loss: 0.3559 - val_accuracy: 0.8806\n",
            "Epoch 16/40\n",
            "87/87 [==============================] - 24s 276ms/step - loss: 0.2101 - accuracy: 0.9191 - val_loss: 0.3130 - val_accuracy: 0.8863\n",
            "Epoch 17/40\n",
            "87/87 [==============================] - 25s 279ms/step - loss: 0.1851 - accuracy: 0.9281 - val_loss: 0.2815 - val_accuracy: 0.8935\n",
            "Epoch 18/40\n",
            "87/87 [==============================] - 24s 266ms/step - loss: 0.1733 - accuracy: 0.9248 - val_loss: 0.4783 - val_accuracy: 0.8633\n",
            "Epoch 19/40\n",
            "87/87 [==============================] - 24s 267ms/step - loss: 0.1805 - accuracy: 0.9295 - val_loss: 0.3946 - val_accuracy: 0.8748\n",
            "Epoch 20/40\n",
            "87/87 [==============================] - 24s 273ms/step - loss: 0.1686 - accuracy: 0.9399 - val_loss: 0.2864 - val_accuracy: 0.8964\n",
            "Epoch 21/40\n",
            "87/87 [==============================] - 24s 277ms/step - loss: 0.1586 - accuracy: 0.9410 - val_loss: 0.2923 - val_accuracy: 0.9022\n",
            "Epoch 22/40\n",
            "87/87 [==============================] - 24s 276ms/step - loss: 0.1401 - accuracy: 0.9493 - val_loss: 0.3244 - val_accuracy: 0.9137\n",
            "Epoch 23/40\n",
            "87/87 [==============================] - 24s 278ms/step - loss: 0.1509 - accuracy: 0.9410 - val_loss: 1.0282 - val_accuracy: 0.7914\n",
            "Epoch 24/40\n",
            "87/87 [==============================] - 24s 267ms/step - loss: 0.1909 - accuracy: 0.9288 - val_loss: 1.0347 - val_accuracy: 0.7410\n",
            "Epoch 25/40\n",
            "87/87 [==============================] - 24s 267ms/step - loss: 0.1510 - accuracy: 0.9432 - val_loss: 0.4949 - val_accuracy: 0.8417\n",
            "Epoch 26/40\n",
            "87/87 [==============================] - 25s 284ms/step - loss: 0.1091 - accuracy: 0.9594 - val_loss: 0.2782 - val_accuracy: 0.9209\n",
            "Epoch 27/40\n",
            "87/87 [==============================] - 25s 279ms/step - loss: 0.1104 - accuracy: 0.9608 - val_loss: 0.3176 - val_accuracy: 0.9151\n",
            "Epoch 28/40\n",
            "87/87 [==============================] - 24s 268ms/step - loss: 0.1014 - accuracy: 0.9608 - val_loss: 0.3344 - val_accuracy: 0.8964\n",
            "Epoch 29/40\n",
            "87/87 [==============================] - 25s 283ms/step - loss: 0.1105 - accuracy: 0.9583 - val_loss: 0.4321 - val_accuracy: 0.8820\n",
            "Epoch 30/40\n",
            "87/87 [==============================] - 24s 272ms/step - loss: 0.0867 - accuracy: 0.9723 - val_loss: 0.3405 - val_accuracy: 0.9151\n",
            "Epoch 31/40\n",
            "87/87 [==============================] - 25s 284ms/step - loss: 0.0836 - accuracy: 0.9680 - val_loss: 0.4065 - val_accuracy: 0.8878\n",
            "Epoch 32/40\n",
            "87/87 [==============================] - 25s 278ms/step - loss: 0.1103 - accuracy: 0.9583 - val_loss: 0.4004 - val_accuracy: 0.8921\n",
            "Epoch 33/40\n",
            "87/87 [==============================] - 24s 269ms/step - loss: 0.1045 - accuracy: 0.9590 - val_loss: 0.9267 - val_accuracy: 0.7871\n",
            "Epoch 34/40\n",
            "87/87 [==============================] - 24s 273ms/step - loss: 0.0549 - accuracy: 0.9820 - val_loss: 0.4497 - val_accuracy: 0.8950\n",
            "Epoch 35/40\n",
            "87/87 [==============================] - 24s 268ms/step - loss: 0.0514 - accuracy: 0.9845 - val_loss: 0.5127 - val_accuracy: 0.8863\n",
            "Epoch 36/40\n",
            "87/87 [==============================] - 24s 270ms/step - loss: 0.0921 - accuracy: 0.9637 - val_loss: 0.3382 - val_accuracy: 0.9050\n",
            "Epoch 37/40\n",
            "87/87 [==============================] - 24s 276ms/step - loss: 0.0500 - accuracy: 0.9799 - val_loss: 0.4650 - val_accuracy: 0.8892\n",
            "Epoch 38/40\n",
            "87/87 [==============================] - 25s 281ms/step - loss: 0.0781 - accuracy: 0.9748 - val_loss: 0.5650 - val_accuracy: 0.8647\n",
            "Epoch 39/40\n",
            "87/87 [==============================] - 25s 279ms/step - loss: 0.0656 - accuracy: 0.9770 - val_loss: 0.5101 - val_accuracy: 0.8777\n",
            "Epoch 40/40\n",
            "87/87 [==============================] - 25s 285ms/step - loss: 0.0628 - accuracy: 0.9781 - val_loss: 0.5183 - val_accuracy: 0.8906\n"
          ]
        }
      ]
    },
    {
      "cell_type": "code",
      "source": [
        "import matplotlib.pyplot as plt"
      ],
      "metadata": {
        "id": "zqLitP1LVMuc"
      },
      "execution_count": 12,
      "outputs": []
    },
    {
      "cell_type": "code",
      "source": [
        "plt.plot(history.history['loss'])\n",
        "plt.plot(history.history['val_loss'])"
      ],
      "metadata": {
        "colab": {
          "base_uri": "https://localhost:8080/",
          "height": 448
        },
        "id": "YlH6SBK2V9Iq",
        "outputId": "5a533b53-3624-41b7-9259-296852f0b906"
      },
      "execution_count": 13,
      "outputs": [
        {
          "output_type": "execute_result",
          "data": {
            "text/plain": [
              "[<matplotlib.lines.Line2D at 0x7b08444aece0>]"
            ]
          },
          "metadata": {},
          "execution_count": 13
        },
        {
          "output_type": "display_data",
          "data": {
            "text/plain": [
              "<Figure size 640x480 with 1 Axes>"
            ],
            "image/png": "[encoded data removed]"
          },
          "metadata": {}
        }
      ]
    },
    {
      "cell_type": "code",
      "source": [
        "plt.plot(history.history['accuracy'])\n",
        "plt.plot(history.history['val_accuracy'])"
      ],
      "metadata": {
        "colab": {
          "base_uri": "https://localhost:8080/",
          "height": 448
        },
        "id": "XkWVnrhjWGjq",
        "outputId": "c6c1bbfb-840e-459b-c4b3-2a1f9e197cd4"
      },
      "execution_count": 14,
      "outputs": [
        {
          "output_type": "execute_result",
          "data": {
            "text/plain": [
              "[<matplotlib.lines.Line2D at 0x7b08a04274c0>]"
            ]
          },
          "metadata": {},
          "execution_count": 14
        },
        {
          "output_type": "display_data",
          "data": {
            "text/plain": [
              "<Figure size 640x480 with 1 Axes>"
            ],
            "image/png": "[encoded data removed]"
          },
          "metadata": {}
        }
      ]
    }
  ]
}